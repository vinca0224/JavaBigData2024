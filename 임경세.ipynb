{
 "cells": [
  {
   "cell_type": "markdown",
   "metadata": {},
   "source": [
    "## 1번 문제"
   ]
  },
  {
   "cell_type": "code",
   "execution_count": 1,
   "metadata": {},
   "outputs": [
    {
     "name": "stdout",
     "output_type": "stream",
     "text": [
      "남성입니다\n"
     ]
    }
   ],
   "source": [
    "# 입력한 주민번호를 통해 남성과 여성을 구분할 수 있는 프로그램을 작성하세요.(1,3,5는 남성. 2,4,6은 여성입니다)\n",
    "\n",
    "# 1. 주민번호 입력(012345-789abcd)\n",
    "ssn = input('주민번호를 입력하세요.')\n",
    "ssnTail = (ssn.split('-'))[1]\n",
    "# 2. 남자, 여자 구분\n",
    "try :\n",
    "    if ssnTail[0] == 1 or 3 or 5:\n",
    "        print('남성입니다')\n",
    "    elif ssnTail[0] == 2 or 4 or 6:\n",
    "        print('여성입니다')\n",
    "except : print('형식에 맞게 입력해 주세요')"
   ]
  },
  {
   "cell_type": "markdown",
   "metadata": {},
   "source": [
    "## 2번 문제"
   ]
  },
  {
   "cell_type": "code",
   "execution_count": null,
   "metadata": {},
   "outputs": [],
   "source": [
    "# 일주일의 영어명은 'MON', 'TUE', 'WED', 'TUR', 'FRI', 'SAT', 'SUN' 입니다. 이를 입력하면, '오늘은 월요일~일요일 입니다'라는 메시지가 출력되는 프로그램을 작성하세요.\n",
    "\n",
    "# 1. 딕셔너리 사용\n",
    "dic = {'MON': '월요일', 'TUE' : '화요일', 'WED' :  '수요일', 'TUR' :  '목요일', 'FRI' : '금요일', 'SAT' : '토요일', 'SUN' : '일요일'}\n",
    "# 2. 요일 입력\n",
    "today = input('오늘의 요일의 영어명을 쓰세요.')\n",
    "print(f'오늘은 {dic[today]} 입니다')"
   ]
  },
  {
   "cell_type": "markdown",
   "metadata": {},
   "source": [
    "## 3번 문제"
   ]
  },
  {
   "cell_type": "code",
   "execution_count": null,
   "metadata": {},
   "outputs": [],
   "source": [
    "# 나이를 입력하면 19세 미만일 경우 입장을 못하게 하는 클럽 입장 프로그램을 작성하세요.\n",
    "\n",
    "# 1. 나이 입력\n",
    "age = int(input('나이를 입력하세요.'))\n",
    "# 2. 나이 검사\n",
    "if age < 19 :\n",
    "    print('애들은 가라')\n",
    "else :\n",
    "    print('어서옵쇼, 손님!!')"
   ]
  },
  {
   "cell_type": "markdown",
   "metadata": {},
   "source": [
    "## 4번 문제"
   ]
  },
  {
   "cell_type": "code",
   "execution_count": null,
   "metadata": {},
   "outputs": [],
   "source": [
    "# while 문을 사용, 1부터 1000 까지 에서 3과 5의 배수를 모두 구한뒤, result.txt에 저장하는 프로그램을 작성하세요.\n",
    "\n",
    "# 1. while 문으로 1000까지 구하기\n",
    "num = 0\n",
    "with open('result.txt', mode= 'w') as f:\n",
    "    while num < 1000 :\n",
    "        if num % 3 == 0 :\n",
    "            f.write(str(num)+'\\n')\n",
    "        elif num % 5 == 0 :\n",
    "            f.write(str(num)+'\\n')\n",
    "        num = num + 1"
   ]
  },
  {
   "cell_type": "markdown",
   "metadata": {},
   "source": [
    "## 5번 문제"
   ]
  },
  {
   "cell_type": "code",
   "execution_count": null,
   "metadata": {},
   "outputs": [],
   "source": [
    "# datetime 모듈을 사용, 지금 현재의 날짜와 시간을 아래와 같은 형식으로 출력하는 프로그램을 작성하세요. 예) 2024\\03%06 16**25//32\n",
    "\n",
    "import datetime\n",
    "\n",
    "year = datetime.datetime.today().year\n",
    "month = datetime.datetime.today().month\n",
    "day = datetime.datetime.today().day\n",
    "hour = datetime.datetime.today().hour\n",
    "minute = datetime.datetime.today().minute\n",
    "sec = datetime.datetime.today().second\n",
    "\n",
    "print(f'{year}\\\\{month:02d}%{day:02d} {hour:02d}**{minute:02d}//{sec:02d}')"
   ]
  }
 ],
 "metadata": {
  "kernelspec": {
   "display_name": "Python 3",
   "language": "python",
   "name": "python3"
  },
  "language_info": {
   "codemirror_mode": {
    "name": "ipython",
    "version": 3
   },
   "file_extension": ".py",
   "mimetype": "text/x-python",
   "name": "python",
   "nbconvert_exporter": "python",
   "pygments_lexer": "ipython3",
   "version": "3.12.2"
  }
 },
 "nbformat": 4,
 "nbformat_minor": 2
}
