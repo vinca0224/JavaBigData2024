{
 "cells": [
  {
   "cell_type": "markdown",
   "metadata": {},
   "source": [
    "## 주피터 노트북 시작\n",
    "\n",
    "- 주피터 노트북 사용법 학습\n",
    "    1. VS Code > Ctrl + Shift + P (명령팔레트) > Create : 새 Jupyter Notebook 선택\n",
    "    2. 반드시 최초에 저장 \n",
    "    3. Markdown Cell, Code Cell 확인\n",
    "    4. 노트북을 새로 열면 __모두 실행__ 눌러서 전체 코드 셀 실행"
   ]
  },
  {
   "cell_type": "code",
   "execution_count": null,
   "metadata": {},
   "outputs": [],
   "source": [
    "print('Hello, JupyterNotebook!')"
   ]
  },
  {
   "cell_type": "markdown",
   "metadata": {},
   "source": [
    "### 주피터 노트북 단축키\n",
    "\n",
    "- 필수 단축키\n",
    "    - Ctrl + Enter : 코드 셀을 실행, 마크다운 셀 닫기\n",
    "    - Shift + Enter : Ctrl + Enter 기능 + 현재와 같은 셀 추가(단, 마지막 셀에서만 셀 추가)\n",
    "    - a : 현재 셀 위치 위에 코드 셀 추가\n",
    "    - Shift + L : 라인넘버 토글\n",
    "    - Ctrl + / : 주석 토글\n",
    "\n",
    "- 옵션 단축키\n",
    "    - b : 아무 것도 선택 안한 상태에서 아래에 코드 셀 추가\n",
    "    - m : 코드 셀을 마크다운 셀로 변경\n",
    "    - y : 마크다운 셀을 코드 셀로 변경\n",
    "    "
   ]
  },
  {
   "cell_type": "markdown",
   "metadata": {},
   "source": [
    "### 디버깅\n",
    "\n",
    "- 디버깅 하는 방법은 .py와 동일\n",
    "    - 디버그 실행시 Ctrl + Shift + Alt + Enter\n",
    "    - "
   ]
  },
  {
   "cell_type": "code",
   "execution_count": null,
   "metadata": {},
   "outputs": [],
   "source": [
    "# 디버깅 후 코드 셀 재실행\n",
    "def add(x,y):\n",
    "    res = int(x) + int(y)\n",
    "    return res"
   ]
  },
  {
   "cell_type": "code",
   "execution_count": null,
   "metadata": {},
   "outputs": [],
   "source": [
    "a, b = input('두 수를 입력(정수)').split(' ')\n",
    "result = add(a,b)\n",
    "print(f'더하기 결과는 {result}입니다.')"
   ]
  }
 ],
 "metadata": {
  "kernelspec": {
   "display_name": "Python 3",
   "language": "python",
   "name": "python3"
  },
  "language_info": {
   "codemirror_mode": {
    "name": "ipython",
    "version": 3
   },
   "file_extension": ".py",
   "mimetype": "text/x-python",
   "name": "python",
   "nbconvert_exporter": "python",
   "pygments_lexer": "ipython3",
   "version": "3.12.2"
  }
 },
 "nbformat": 4,
 "nbformat_minor": 2
}
