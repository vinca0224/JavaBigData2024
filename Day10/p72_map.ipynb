{
 "cells": [
  {
   "cell_type": "markdown",
   "metadata": {},
   "source": [
    "## 지도 표시하기\n",
    "\n",
    "- Folium 라이브러리\n",
    "    - JavaScript로 만들어진 leaflet 라이브러리를 Python에서 쓸 수 있도록 변환(wrapping)한 것\n",
    "    - https://leafletjs.com/ 참조\n",
    "    - https://python-visualization.github.io/folium/latest/ 항상 참조(버전이 바뀔 때 마다 옵션, 함수가 바뀜)\n",
    "\n",
    "- Folium 설치\n",
    "    ```shell\n",
    "    > pip install folium\n",
    "    ```\n",
    "    - 노트북에서 실행시는 pip 앞에 ! 추가"
   ]
  },
  {
   "cell_type": "code",
   "execution_count": 2,
   "metadata": {},
   "outputs": [
    {
     "name": "stdout",
     "output_type": "stream",
     "text": [
      "Requirement already satisfied: folium in c:\\dev\\python312\\lib\\site-packages (0.16.0)\n",
      "Requirement already satisfied: branca>=0.6.0 in c:\\dev\\python312\\lib\\site-packages (from folium) (0.7.1)\n",
      "Requirement already satisfied: jinja2>=2.9 in c:\\dev\\python312\\lib\\site-packages (from folium) (3.1.3)\n",
      "Requirement already satisfied: numpy in c:\\dev\\python312\\lib\\site-packages (from folium) (1.26.4)\n",
      "Requirement already satisfied: requests in c:\\dev\\python312\\lib\\site-packages (from folium) (2.31.0)\n",
      "Requirement already satisfied: xyzservices in c:\\dev\\python312\\lib\\site-packages (from folium) (2023.10.1)\n",
      "Requirement already satisfied: MarkupSafe>=2.0 in c:\\dev\\python312\\lib\\site-packages (from jinja2>=2.9->folium) (2.1.5)\n",
      "Requirement already satisfied: charset-normalizer<4,>=2 in c:\\dev\\python312\\lib\\site-packages (from requests->folium) (3.3.2)\n",
      "Requirement already satisfied: idna<4,>=2.5 in c:\\dev\\python312\\lib\\site-packages (from requests->folium) (2.10)\n",
      "Requirement already satisfied: urllib3<3,>=1.21.1 in c:\\dev\\python312\\lib\\site-packages (from requests->folium) (2.2.1)\n",
      "Requirement already satisfied: certifi>=2017.4.17 in c:\\dev\\python312\\lib\\site-packages (from requests->folium) (2024.2.2)\n"
     ]
    }
   ],
   "source": [
    "!pip install folium"
   ]
  },
  {
   "cell_type": "markdown",
   "metadata": {},
   "source": [
    "- Folium 모듈 추가\n",
    "    import folium"
   ]
  },
  {
   "cell_type": "code",
   "execution_count": 3,
   "metadata": {},
   "outputs": [],
   "source": [
    "import folium"
   ]
  },
  {
   "cell_type": "code",
   "execution_count": null,
   "metadata": {},
   "outputs": [],
   "source": [
    "# 지도 표시, 지도 확인 때는 구글맵 참조\n",
    "# 줌 값 필요, 위경도는 소수 넷째자리까지는 정확하게\n",
    "# http://map.google.com\n",
    "map = folium.Map(location=[35.178108, 129.199087], zoom_start= 15, zoom_control=True)\n",
    "map"
   ]
  },
  {
   "cell_type": "code",
   "execution_count": null,
   "metadata": {},
   "outputs": [],
   "source": [
    "map.save('myMap.html')\n",
    "map"
   ]
  },
  {
   "cell_type": "markdown",
   "metadata": {},
   "source": [
    "- 지도의 타일셋 지정\n",
    "    - OpenStreetMap(기본), OpenStreetMap.HOT, OpenStreetMap.BZH, OpenTopoMap, cartodb positron(cartdb 그룹),CyclOSM"
   ]
  },
  {
   "cell_type": "code",
   "execution_count": null,
   "metadata": {},
   "outputs": [],
   "source": [
    "# 타일셋 지정\n",
    "map = folium.Map(location=[35.178108, 129.199087], tiles= 'cartoDB.Voyager', zoom_start= 16)\n",
    "map"
   ]
  },
  {
   "cell_type": "markdown",
   "metadata": {},
   "source": [
    "- 지도 마커 표시\n",
    "    - Marker() 클래스로 생성한 뒤 지도에 추가"
   ]
  },
  {
   "cell_type": "code",
   "execution_count": null,
   "metadata": {},
   "outputs": [],
   "source": [
    "# 마커\n",
    "map = folium.Map(location=[35.178108, 129.199087], tiles= 'cartoDB.Voyager', zoom_start= 16)\n",
    "\n",
    "folium.Marker(location=[35.178108, 129.199087], tooltip= '송정 해수욕장', popup= '서핑').add_to(map)\n",
    "popup = folium.Popup('<pre><a href=\"https://www.starbucks.co.kr/\">스타벅스</a></pre>', min_width = 200, max_width= 300)\n",
    "folium.Marker(location=[35.180762, 129.202324], tooltip= '스타벅스 송정', popup= popup, icon= folium.Icon(color='green', icon= 'mug-hot', prefix= 'fa')).add_to(map)\n",
    "map"
   ]
  },
  {
   "cell_type": "code",
   "execution_count": null,
   "metadata": {},
   "outputs": [],
   "source": []
  }
 ],
 "metadata": {
  "kernelspec": {
   "display_name": "Python 3",
   "language": "python",
   "name": "python3"
  },
  "language_info": {
   "codemirror_mode": {
    "name": "ipython",
    "version": 3
   },
   "file_extension": ".py",
   "mimetype": "text/x-python",
   "name": "python",
   "nbconvert_exporter": "python",
   "pygments_lexer": "ipython3",
   "version": "3.12.2"
  }
 },
 "nbformat": 4,
 "nbformat_minor": 2
}
